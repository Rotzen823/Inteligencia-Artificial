{
 "cells": [
  {
   "cell_type": "code",
   "execution_count": 1,
   "id": "57b9356a",
   "metadata": {},
   "outputs": [],
   "source": [
    "import tensorflow as tf\n",
    "from tensorflow import keras\n",
    "import numpy as np\n",
    "import matplotlib.pyplot as plt"
   ]
  },
  {
   "cell_type": "code",
   "execution_count": 2,
   "id": "3cda62a0",
   "metadata": {},
   "outputs": [],
   "source": [
    "# Cargar el dataset MNIST\n",
    "(x_train, y_train), (x_test, y_test) = keras.datasets.mnist.load_data()\n",
    "\n",
    "# Preprocesamiento\n",
    "# Normalizar los valores de píxeles a [0, 1]\n",
    "x_train = x_train.astype(\"float32\") / 255.0\n",
    "x_test = x_test.astype(\"float32\") / 255.0"
   ]
  },
  {
   "cell_type": "code",
   "execution_count": 3,
   "id": "9bd55ca3",
   "metadata": {},
   "outputs": [],
   "source": [
    "# Definir el modelo\n",
    "model = keras.Sequential([\n",
    "    keras.layers.Flatten(input_shape=(28, 28)),  # Aplanar la imagen 28x28\n",
    "    keras.layers.Dense(128, activation='relu'),\n",
    "    keras.layers.Dropout(0.2),\n",
    "    keras.layers.Dense(10, activation='softmax')  # 10 clases (dígitos 0-9)\n",
    "])"
   ]
  },
  {
   "cell_type": "code",
   "execution_count": 4,
   "id": "e7ad9ae9",
   "metadata": {},
   "outputs": [],
   "source": [
    "# Compilar el modelo\n",
    "model.compile(\n",
    "    optimizer='adam',\n",
    "    loss='sparse_categorical_crossentropy',\n",
    "    metrics=['accuracy']\n",
    ")"
   ]
  },
  {
   "cell_type": "code",
   "execution_count": 5,
   "id": "3b8cfe7f",
   "metadata": {},
   "outputs": [
    {
     "name": "stdout",
     "output_type": "stream",
     "text": [
      "Epoch 1/10\n",
      "1500/1500 [==============================] - 3s 1ms/step - loss: 0.3262 - accuracy: 0.9044 - val_loss: 0.1582 - val_accuracy: 0.9535\n",
      "Epoch 2/10\n",
      "1500/1500 [==============================] - 2s 2ms/step - loss: 0.1613 - accuracy: 0.9538 - val_loss: 0.1256 - val_accuracy: 0.9648\n",
      "Epoch 3/10\n",
      "1500/1500 [==============================] - 3s 2ms/step - loss: 0.1181 - accuracy: 0.9647 - val_loss: 0.1032 - val_accuracy: 0.9695\n",
      "Epoch 4/10\n",
      "1500/1500 [==============================] - 3s 2ms/step - loss: 0.0983 - accuracy: 0.9698 - val_loss: 0.0899 - val_accuracy: 0.9732\n",
      "Epoch 5/10\n",
      "1500/1500 [==============================] - 3s 2ms/step - loss: 0.0815 - accuracy: 0.9743 - val_loss: 0.0883 - val_accuracy: 0.9728\n",
      "Epoch 6/10\n",
      "1500/1500 [==============================] - 3s 2ms/step - loss: 0.0718 - accuracy: 0.9772 - val_loss: 0.0848 - val_accuracy: 0.9762\n",
      "Epoch 7/10\n",
      "1500/1500 [==============================] - 3s 2ms/step - loss: 0.0624 - accuracy: 0.9802 - val_loss: 0.0829 - val_accuracy: 0.9768\n",
      "Epoch 8/10\n",
      "1500/1500 [==============================] - 3s 2ms/step - loss: 0.0559 - accuracy: 0.9820 - val_loss: 0.0864 - val_accuracy: 0.9757\n",
      "Epoch 9/10\n",
      "1500/1500 [==============================] - 3s 2ms/step - loss: 0.0507 - accuracy: 0.9831 - val_loss: 0.0823 - val_accuracy: 0.9767\n",
      "Epoch 10/10\n",
      "1500/1500 [==============================] - 3s 2ms/step - loss: 0.0470 - accuracy: 0.9842 - val_loss: 0.0862 - val_accuracy: 0.9765\n",
      "313/313 - 0s - loss: 0.0799 - accuracy: 0.9764 - 397ms/epoch - 1ms/step\n",
      "\n",
      "Precisión en test: 0.9764\n"
     ]
    }
   ],
   "source": [
    "# Entrenar el modelo\n",
    "history = model.fit(\n",
    "    x_train, y_train,\n",
    "    epochs=10,\n",
    "    batch_size=32,\n",
    "    validation_split=0.2\n",
    ")\n",
    "\n",
    "# Evaluar el modelo\n",
    "test_loss, test_acc = model.evaluate(x_test, y_test, verbose=2)\n",
    "print(f\"\\nPrecisión en test: {test_acc:.4f}\")"
   ]
  },
  {
   "cell_type": "code",
   "execution_count": 6,
   "id": "37c548c1",
   "metadata": {},
   "outputs": [
    {
     "name": "stdout",
     "output_type": "stream",
     "text": [
      "1/1 [==============================] - 0s 64ms/step\n"
     ]
    },
    {
     "data": {
      "image/png": "[encoded data removed]",
      "text/plain": [
       "<Figure size 640x480 with 1 Axes>"
      ]
     },
     "metadata": {},
     "output_type": "display_data"
    }
   ],
   "source": [
    "# Mostrar una predicción de ejemplo\n",
    "def plot_prediction(index):\n",
    "    plt.imshow(x_test[index], cmap='gray')\n",
    "    pred = np.argmax(model.predict(x_test[index][np.newaxis, ...]))\n",
    "    plt.title(f\"Predicción: {pred}, Real: {y_test[index]}\")\n",
    "    plt.axis('off')\n",
    "    plt.show()\n",
    "\n",
    "plot_prediction(6)  # Cambiar el índice para probar imágenes"
   ]
  }
 ],
 "metadata": {
  "kernelspec": {
   "display_name": "Python 3",
   "language": "python",
   "name": "python3"
  },
  "language_info": {
   "codemirror_mode": {
    "name": "ipython",
    "version": 3
   },
   "file_extension": ".py",
   "mimetype": "text/x-python",
   "name": "python",
   "nbconvert_exporter": "python",
   "pygments_lexer": "ipython3",
   "version": "3.10.9"
  }
 },
 "nbformat": 4,
 "nbformat_minor": 5
}
