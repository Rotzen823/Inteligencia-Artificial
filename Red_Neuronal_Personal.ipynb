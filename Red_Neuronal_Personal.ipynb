{
 "cells": [
  {
   "cell_type": "code",
   "execution_count": 18,
   "id": "61c7ce9b",
   "metadata": {},
   "outputs": [],
   "source": [
    "from sklearn.datasets import load_iris\n",
    "from sklearn.model_selection import train_test_split\n",
    "from sklearn.preprocessing import StandardScaler\n",
    "from tensorflow import keras\n",
    "import numpy as np"
   ]
  },
  {
   "cell_type": "code",
   "execution_count": 19,
   "id": "7114da05",
   "metadata": {},
   "outputs": [],
   "source": [
    "#Cargar el dataset Iris\n",
    "iris = load_iris()\n",
    "X = iris.data          # 4 características\n",
    "y = iris.target        # 0, 1 o 2 (clase)\n",
    "\n",
    "#Normalizar las características\n",
    "scaler = StandardScaler()\n",
    "X = scaler.fit_transform(X)"
   ]
  },
  {
   "cell_type": "code",
   "execution_count": 20,
   "id": "0d2f5381",
   "metadata": {},
   "outputs": [],
   "source": [
    "#Dividir en entrenamiento y prueba\n",
    "X_train, X_test, y_train, y_test = train_test_split(\n",
    "    X, y, test_size=0.2, random_state=42\n",
    ")\n",
    "\n",
    "#Definir la red neuronal\n",
    "model = keras.Sequential([\n",
    "    keras.layers.Dense(10, activation='relu', input_shape=(4,)),  # capa oculta\n",
    "    keras.layers.Dense(10, activation='relu'),                    # otra capa oculta\n",
    "    keras.layers.Dense(3, activation='softmax')                   # salida (3 clases)\n",
    "])"
   ]
  },
  {
   "cell_type": "code",
   "execution_count": 21,
   "id": "93741a6d",
   "metadata": {},
   "outputs": [],
   "source": [
    "#Compilar el modelo\n",
    "model.compile(\n",
    "    optimizer='adam',\n",
    "    loss='sparse_categorical_crossentropy',\n",
    "    metrics=['accuracy']\n",
    ")"
   ]
  },
  {
   "cell_type": "code",
   "execution_count": 22,
   "id": "5d3daac2",
   "metadata": {},
   "outputs": [
    {
     "name": "stdout",
     "output_type": "stream",
     "text": [
      "Epoch 1/50\n",
      "20/20 [==============================] - 1s 8ms/step - loss: 0.9415 - accuracy: 0.6458 - val_loss: 0.8046 - val_accuracy: 0.7083\n",
      "Epoch 2/50\n",
      "20/20 [==============================] - 0s 3ms/step - loss: 0.9059 - accuracy: 0.6875 - val_loss: 0.7762 - val_accuracy: 0.7083\n",
      "Epoch 3/50\n",
      "20/20 [==============================] - 0s 2ms/step - loss: 0.8733 - accuracy: 0.7188 - val_loss: 0.7518 - val_accuracy: 0.7917\n",
      "Epoch 4/50\n",
      "20/20 [==============================] - 0s 2ms/step - loss: 0.8398 - accuracy: 0.8021 - val_loss: 0.7291 - val_accuracy: 0.8333\n",
      "Epoch 5/50\n",
      "20/20 [==============================] - 0s 2ms/step - loss: 0.8044 - accuracy: 0.8125 - val_loss: 0.7018 - val_accuracy: 0.7917\n",
      "Epoch 6/50\n",
      "20/20 [==============================] - 0s 2ms/step - loss: 0.7662 - accuracy: 0.8229 - val_loss: 0.6756 - val_accuracy: 0.8333\n",
      "Epoch 7/50\n",
      "20/20 [==============================] - 0s 3ms/step - loss: 0.7265 - accuracy: 0.8229 - val_loss: 0.6463 - val_accuracy: 0.8333\n",
      "Epoch 8/50\n",
      "20/20 [==============================] - 0s 3ms/step - loss: 0.6838 - accuracy: 0.8229 - val_loss: 0.6090 - val_accuracy: 0.8333\n",
      "Epoch 9/50\n",
      "20/20 [==============================] - 0s 3ms/step - loss: 0.6392 - accuracy: 0.8229 - val_loss: 0.5762 - val_accuracy: 0.8750\n",
      "Epoch 10/50\n",
      "20/20 [==============================] - 0s 3ms/step - loss: 0.5908 - accuracy: 0.8229 - val_loss: 0.5386 - val_accuracy: 0.8333\n",
      "Epoch 11/50\n",
      "20/20 [==============================] - 0s 3ms/step - loss: 0.5434 - accuracy: 0.8229 - val_loss: 0.5035 - val_accuracy: 0.8750\n",
      "Epoch 12/50\n",
      "20/20 [==============================] - 0s 3ms/step - loss: 0.4975 - accuracy: 0.8646 - val_loss: 0.4721 - val_accuracy: 0.8750\n",
      "Epoch 13/50\n",
      "20/20 [==============================] - 0s 3ms/step - loss: 0.4558 - accuracy: 0.8542 - val_loss: 0.4382 - val_accuracy: 0.8750\n",
      "Epoch 14/50\n",
      "20/20 [==============================] - 0s 3ms/step - loss: 0.4232 - accuracy: 0.8542 - val_loss: 0.4165 - val_accuracy: 0.9167\n",
      "Epoch 15/50\n",
      "20/20 [==============================] - 0s 3ms/step - loss: 0.3906 - accuracy: 0.8542 - val_loss: 0.3885 - val_accuracy: 0.9167\n",
      "Epoch 16/50\n",
      "20/20 [==============================] - 0s 3ms/step - loss: 0.3655 - accuracy: 0.8542 - val_loss: 0.3687 - val_accuracy: 0.9167\n",
      "Epoch 17/50\n",
      "20/20 [==============================] - 0s 3ms/step - loss: 0.3435 - accuracy: 0.8542 - val_loss: 0.3524 - val_accuracy: 0.9167\n",
      "Epoch 18/50\n",
      "20/20 [==============================] - 0s 3ms/step - loss: 0.3240 - accuracy: 0.8646 - val_loss: 0.3367 - val_accuracy: 0.9167\n",
      "Epoch 19/50\n",
      "20/20 [==============================] - 0s 3ms/step - loss: 0.3067 - accuracy: 0.8750 - val_loss: 0.3251 - val_accuracy: 0.9167\n",
      "Epoch 20/50\n",
      "20/20 [==============================] - 0s 2ms/step - loss: 0.2911 - accuracy: 0.9167 - val_loss: 0.3186 - val_accuracy: 0.9167\n",
      "Epoch 21/50\n",
      "20/20 [==============================] - 0s 2ms/step - loss: 0.2780 - accuracy: 0.9167 - val_loss: 0.3032 - val_accuracy: 0.9167\n",
      "Epoch 22/50\n",
      "20/20 [==============================] - 0s 3ms/step - loss: 0.2643 - accuracy: 0.9271 - val_loss: 0.2926 - val_accuracy: 0.9167\n",
      "Epoch 23/50\n",
      "20/20 [==============================] - 0s 3ms/step - loss: 0.2536 - accuracy: 0.9271 - val_loss: 0.2841 - val_accuracy: 0.9167\n",
      "Epoch 24/50\n",
      "20/20 [==============================] - 0s 3ms/step - loss: 0.2444 - accuracy: 0.9479 - val_loss: 0.2793 - val_accuracy: 0.9167\n",
      "Epoch 25/50\n",
      "20/20 [==============================] - 0s 2ms/step - loss: 0.2336 - accuracy: 0.9375 - val_loss: 0.2617 - val_accuracy: 0.9167\n",
      "Epoch 26/50\n",
      "20/20 [==============================] - 0s 2ms/step - loss: 0.2265 - accuracy: 0.9479 - val_loss: 0.2716 - val_accuracy: 0.9167\n",
      "Epoch 27/50\n",
      "20/20 [==============================] - 0s 2ms/step - loss: 0.2175 - accuracy: 0.9688 - val_loss: 0.2585 - val_accuracy: 0.9167\n",
      "Epoch 28/50\n",
      "20/20 [==============================] - 0s 2ms/step - loss: 0.2100 - accuracy: 0.9688 - val_loss: 0.2392 - val_accuracy: 0.9167\n",
      "Epoch 29/50\n",
      "20/20 [==============================] - 0s 3ms/step - loss: 0.2005 - accuracy: 0.9583 - val_loss: 0.2372 - val_accuracy: 0.9167\n",
      "Epoch 30/50\n",
      "20/20 [==============================] - 0s 2ms/step - loss: 0.1913 - accuracy: 0.9688 - val_loss: 0.2287 - val_accuracy: 0.9583\n",
      "Epoch 31/50\n",
      "20/20 [==============================] - 0s 2ms/step - loss: 0.1826 - accuracy: 0.9688 - val_loss: 0.2203 - val_accuracy: 0.9583\n",
      "Epoch 32/50\n",
      "20/20 [==============================] - 0s 2ms/step - loss: 0.1734 - accuracy: 0.9688 - val_loss: 0.2081 - val_accuracy: 0.9583\n",
      "Epoch 33/50\n",
      "20/20 [==============================] - 0s 2ms/step - loss: 0.1656 - accuracy: 0.9688 - val_loss: 0.2088 - val_accuracy: 0.9583\n",
      "Epoch 34/50\n",
      "20/20 [==============================] - 0s 2ms/step - loss: 0.1584 - accuracy: 0.9688 - val_loss: 0.1996 - val_accuracy: 0.9583\n",
      "Epoch 35/50\n",
      "20/20 [==============================] - 0s 2ms/step - loss: 0.1530 - accuracy: 0.9688 - val_loss: 0.1938 - val_accuracy: 0.9583\n",
      "Epoch 36/50\n",
      "20/20 [==============================] - 0s 3ms/step - loss: 0.1466 - accuracy: 0.9688 - val_loss: 0.1833 - val_accuracy: 0.9583\n",
      "Epoch 37/50\n",
      "20/20 [==============================] - 0s 3ms/step - loss: 0.1405 - accuracy: 0.9688 - val_loss: 0.1812 - val_accuracy: 0.9583\n",
      "Epoch 38/50\n",
      "20/20 [==============================] - 0s 3ms/step - loss: 0.1360 - accuracy: 0.9688 - val_loss: 0.1806 - val_accuracy: 0.9583\n",
      "Epoch 39/50\n",
      "20/20 [==============================] - 0s 3ms/step - loss: 0.1331 - accuracy: 0.9583 - val_loss: 0.1680 - val_accuracy: 0.9583\n",
      "Epoch 40/50\n",
      "20/20 [==============================] - 0s 2ms/step - loss: 0.1288 - accuracy: 0.9688 - val_loss: 0.1569 - val_accuracy: 0.9583\n",
      "Epoch 41/50\n",
      "20/20 [==============================] - 0s 2ms/step - loss: 0.1241 - accuracy: 0.9688 - val_loss: 0.1645 - val_accuracy: 0.9583\n",
      "Epoch 42/50\n",
      "20/20 [==============================] - 0s 3ms/step - loss: 0.1186 - accuracy: 0.9792 - val_loss: 0.1502 - val_accuracy: 0.9583\n",
      "Epoch 43/50\n",
      "20/20 [==============================] - 0s 3ms/step - loss: 0.1154 - accuracy: 0.9792 - val_loss: 0.1518 - val_accuracy: 0.9583\n",
      "Epoch 44/50\n",
      "20/20 [==============================] - 0s 3ms/step - loss: 0.1122 - accuracy: 0.9792 - val_loss: 0.1396 - val_accuracy: 0.9583\n",
      "Epoch 45/50\n",
      "20/20 [==============================] - 0s 3ms/step - loss: 0.1127 - accuracy: 0.9583 - val_loss: 0.1405 - val_accuracy: 0.9583\n",
      "Epoch 46/50\n",
      "20/20 [==============================] - 0s 3ms/step - loss: 0.1065 - accuracy: 0.9792 - val_loss: 0.1452 - val_accuracy: 0.9583\n",
      "Epoch 47/50\n",
      "20/20 [==============================] - 0s 3ms/step - loss: 0.1024 - accuracy: 0.9688 - val_loss: 0.1344 - val_accuracy: 0.9583\n",
      "Epoch 48/50\n",
      "20/20 [==============================] - 0s 3ms/step - loss: 0.1001 - accuracy: 0.9792 - val_loss: 0.1301 - val_accuracy: 0.9583\n",
      "Epoch 49/50\n",
      "20/20 [==============================] - 0s 3ms/step - loss: 0.0985 - accuracy: 0.9688 - val_loss: 0.1356 - val_accuracy: 0.9583\n",
      "Epoch 50/50\n",
      "20/20 [==============================] - 0s 3ms/step - loss: 0.0978 - accuracy: 0.9688 - val_loss: 0.1349 - val_accuracy: 0.9583\n",
      "1/1 [==============================] - 0s 23ms/step - loss: 0.0609 - accuracy: 1.0000\n",
      "\n",
      "Precisión en test: 1.0000\n"
     ]
    }
   ],
   "source": [
    "#Entrenar el modelo\n",
    "model.fit(\n",
    "    X_train, y_train,\n",
    "    epochs=50,\n",
    "    batch_size=5,\n",
    "    validation_split=0.2\n",
    ")\n",
    "\n",
    "# Evaluar en datos de prueba\n",
    "loss, acc = model.evaluate(X_test, y_test)\n",
    "print(f\"\\nPrecisión en test: {acc:.4f}\")"
   ]
  },
  {
   "cell_type": "code",
   "execution_count": 23,
   "id": "0ae8e4e2",
   "metadata": {},
   "outputs": [
    {
     "name": "stdout",
     "output_type": "stream",
     "text": [
      "1/1 [==============================] - 0s 47ms/step\n",
      "Predicción: versicolor\n",
      "Clase real: versicolor\n"
     ]
    }
   ],
   "source": [
    "def predecir(index):\n",
    "    entrada = X_test[index].reshape(1, -1)\n",
    "    prediccion = model.predict(entrada)\n",
    "    clase = np.argmax(prediccion)\n",
    "    print(f\"Predicción: {iris.target_names[clase]}\")\n",
    "    print(f\"Clase real: {iris.target_names[y_test[index]]}\")\n",
    "\n",
    "predecir(8)"
   ]
  }
 ],
 "metadata": {
  "kernelspec": {
   "display_name": "Python 3",
   "language": "python",
   "name": "python3"
  },
  "language_info": {
   "codemirror_mode": {
    "name": "ipython",
    "version": 3
   },
   "file_extension": ".py",
   "mimetype": "text/x-python",
   "name": "python",
   "nbconvert_exporter": "python",
   "pygments_lexer": "ipython3",
   "version": "3.10.9"
  }
 },
 "nbformat": 4,
 "nbformat_minor": 5
}
